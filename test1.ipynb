{
 "cells": [
  {
   "cell_type": "code",
   "execution_count": null,
   "id": "53248089",
   "metadata": {},
   "outputs": [],
   "source": [
    "print(\"The first test file\")\n",
    "\n",
    "print(\"change\")\n",
    "\n",
    "print(\"First change after the file was moved.\")"
   ]
  }
 ],
 "metadata": {
  "kernelspec": {
   "display_name": "base",
   "language": "python",
   "name": "python3"
  },
  "language_info": {
   "name": "python",
   "version": "3.12.7"
  }
 },
 "nbformat": 4,
 "nbformat_minor": 5
}
